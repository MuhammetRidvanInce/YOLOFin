{
 "cells": [
  {
   "cell_type": "code",
   "execution_count": 1,
   "metadata": {},
   "outputs": [],
   "source": [
    "import numpy as np\n",
    "import pandas as pd\n",
    "import matplotlib.pyplot as plt\n",
    "import os\n",
    "import glob\n",
    "os.chdir(\"C:/Users/muham/Desktop/YOLOMODEL1\")\n",
    "Coin = \"BNB\""
   ]
  },
  {
   "cell_type": "code",
   "execution_count": 2,
   "metadata": {},
   "outputs": [
    {
     "data": {
      "text/html": [
       "<div>\n",
       "<style scoped>\n",
       "    .dataframe tbody tr th:only-of-type {\n",
       "        vertical-align: middle;\n",
       "    }\n",
       "\n",
       "    .dataframe tbody tr th {\n",
       "        vertical-align: top;\n",
       "    }\n",
       "\n",
       "    .dataframe thead th {\n",
       "        text-align: right;\n",
       "    }\n",
       "</style>\n",
       "<table border=\"1\" class=\"dataframe\">\n",
       "  <thead>\n",
       "    <tr style=\"text-align: right;\">\n",
       "      <th></th>\n",
       "      <th>Close</th>\n",
       "    </tr>\n",
       "    <tr>\n",
       "      <th>Date</th>\n",
       "      <th></th>\n",
       "    </tr>\n",
       "  </thead>\n",
       "  <tbody>\n",
       "    <tr>\n",
       "      <th>2017-12-06</th>\n",
       "      <td>2.58769</td>\n",
       "    </tr>\n",
       "    <tr>\n",
       "      <th>2017-12-07</th>\n",
       "      <td>2.77995</td>\n",
       "    </tr>\n",
       "  </tbody>\n",
       "</table>\n",
       "</div>"
      ],
      "text/plain": [
       "              Close\n",
       "Date               \n",
       "2017-12-06  2.58769\n",
       "2017-12-07  2.77995"
      ]
     },
     "execution_count": 2,
     "metadata": {},
     "output_type": "execute_result"
    }
   ],
   "source": [
    "ClosePrices = pd.read_excel(f\"1_PrepareDataset/{Coin}DailyWithTech.xlsx\", index_col=\"Date\")[[\"Close\"]]\n",
    "ClosePrices.head(2)"
   ]
  },
  {
   "cell_type": "code",
   "execution_count": 3,
   "metadata": {},
   "outputs": [
    {
     "data": {
      "text/html": [
       "<div>\n",
       "<style scoped>\n",
       "    .dataframe tbody tr th:only-of-type {\n",
       "        vertical-align: middle;\n",
       "    }\n",
       "\n",
       "    .dataframe tbody tr th {\n",
       "        vertical-align: top;\n",
       "    }\n",
       "\n",
       "    .dataframe thead th {\n",
       "        text-align: right;\n",
       "    }\n",
       "</style>\n",
       "<table border=\"1\" class=\"dataframe\">\n",
       "  <thead>\n",
       "    <tr style=\"text-align: right;\">\n",
       "      <th></th>\n",
       "      <th>Close</th>\n",
       "    </tr>\n",
       "    <tr>\n",
       "      <th>Date</th>\n",
       "      <th></th>\n",
       "    </tr>\n",
       "  </thead>\n",
       "  <tbody>\n",
       "    <tr>\n",
       "      <th>2024-08-11</th>\n",
       "      <td>503.804535</td>\n",
       "    </tr>\n",
       "    <tr>\n",
       "      <th>2024-08-12</th>\n",
       "      <td>518.536133</td>\n",
       "    </tr>\n",
       "  </tbody>\n",
       "</table>\n",
       "</div>"
      ],
      "text/plain": [
       "                 Close\n",
       "Date                  \n",
       "2024-08-11  503.804535\n",
       "2024-08-12  518.536133"
      ]
     },
     "execution_count": 3,
     "metadata": {},
     "output_type": "execute_result"
    }
   ],
   "source": [
    "ClosePrices.tail(2)"
   ]
  },
  {
   "cell_type": "code",
   "execution_count": 4,
   "metadata": {},
   "outputs": [
    {
     "data": {
      "text/plain": [
       "2442"
      ]
     },
     "execution_count": 4,
     "metadata": {},
     "output_type": "execute_result"
    }
   ],
   "source": [
    "len(ClosePrices)"
   ]
  },
  {
   "cell_type": "code",
   "execution_count": 5,
   "metadata": {},
   "outputs": [],
   "source": [
    "def calculate_average_percentage_change(data):\n",
    "    percentage_changes = np.diff(data) / data[:-1] * 100 \n",
    "    average_percentage_change = np.mean(percentage_changes)\n",
    "    \n",
    "    return average_percentage_change"
   ]
  },
  {
   "cell_type": "code",
   "execution_count": 6,
   "metadata": {},
   "outputs": [
    {
     "name": "stdout",
     "output_type": "stream",
     "text": [
      "(-0.24988992478374883, 0.5418521795422137, array([-11.12988045, -10.77767377, -10.6194028 , ...,  23.07779834,\n",
      "        23.58052105,  28.93417739]))\n"
     ]
    }
   ],
   "source": [
    "def calculate_reference_slopes(prices, window=30, future_days=4):\n",
    "\n",
    "    slopes = []\n",
    "    for i in range(len(prices) - window - future_days+1):\n",
    "\n",
    "        data = prices[i + window-1: i + window + future_days]\n",
    "        slope = calculate_average_percentage_change(data)\n",
    "        slopes.append(slope)\n",
    "        \n",
    "    sorted_slopes = sorted(slopes)\n",
    "    sorted_slopes = np.array(sorted_slopes)\n",
    "\n",
    "    if Coin == \"BNB\":\n",
    "        slope_2n_5 = sorted_slopes[:int(len(sorted_slopes) * 0.40)+1][-1]   \n",
    "        slope_3n_5 = sorted_slopes[:int(len(sorted_slopes) * 0.60)+1][-1]\n",
    "    \n",
    "    elif Coin == \"BTC\":\n",
    "        slope_2n_5 = sorted_slopes[:int(len(sorted_slopes) * 0.40)+1][-1]\n",
    "        slope_3n_5 = sorted_slopes[:int(len(sorted_slopes) * 0.60)+1][-1]\n",
    "\n",
    "    elif Coin == \"ETH\":\n",
    "        slope_2n_5 = sorted_slopes[:int(len(sorted_slopes) * 0.40)+1][-1]\n",
    "        slope_3n_5 = sorted_slopes[:int(len(sorted_slopes) * 0.60)+1][-1]\n",
    "    \n",
    "    elif Coin == \"XRP\":\n",
    "        slope_2n_5 = sorted_slopes[:int(len(sorted_slopes) * 0.40)+1][-1]\n",
    "        slope_3n_5 = sorted_slopes[:int(len(sorted_slopes) * 0.60)+1][-1]\n",
    "\n",
    "\n",
    "    return slope_2n_5, slope_3n_5, sorted_slopes\n",
    "\n",
    "\n",
    "\n",
    "x,y,z = calculate_reference_slopes(ClosePrices.Close)\n",
    "print(calculate_reference_slopes(ClosePrices.Close.values))\n",
    "\n"
   ]
  },
  {
   "cell_type": "code",
   "execution_count": 7,
   "metadata": {},
   "outputs": [],
   "source": [
    "BNBClosePrices = pd.read_excel(f\"1_PrepareDataset/BNBDailyWithTech.xlsx\", index_col=\"Date\")[[\"Close\"]]\n",
    "BTCClosePrices = pd.read_excel(f\"1_PrepareDataset/BTCDailyWithTech.xlsx\", index_col=\"Date\")[[\"Close\"]]\n",
    "ETHClosePrices = pd.read_excel(f\"1_PrepareDataset/ETHDailyWithTech.xlsx\", index_col=\"Date\")[[\"Close\"]]\n",
    "XRPClosePrices = pd.read_excel(f\"1_PrepareDataset/XRPDailyWithTech.xlsx\", index_col=\"Date\")[[\"Close\"]]"
   ]
  },
  {
   "cell_type": "code",
   "execution_count": 8,
   "metadata": {},
   "outputs": [
    {
     "name": "stdout",
     "output_type": "stream",
     "text": [
      "BNB: -0.25 / 0.54\n",
      "BTC: -0.12 / 0.46\n",
      "ETH: -0.24 / 0.54\n",
      "XRP: -0.42 / 0.3\n"
     ]
    },
    {
     "data": {
      "image/png": "[encoded data removed]",
      "text/plain": [
       "<Figure size 600x600 with 4 Axes>"
      ]
     },
     "metadata": {},
     "output_type": "display_data"
    }
   ],
   "source": [
    "import numpy as np\n",
    "import matplotlib.pyplot as plt\n",
    "\n",
    "x1,y1,z1 = calculate_reference_slopes(BNBClosePrices.Close)\n",
    "x2,y2,z2 = calculate_reference_slopes(BTCClosePrices.Close)\n",
    "x3,y3,z3 = calculate_reference_slopes(ETHClosePrices.Close)\n",
    "x4,y4,z4 = calculate_reference_slopes(XRPClosePrices.Close)\n",
    "\n",
    "print(f\"BNB: {round(x1,2)} / {round(y1,2)}\")\n",
    "print(f\"BTC: {round(x2,2)} / {round(y2,2)}\")\n",
    "print(f\"ETH: {round(x3,2)} / {round(y3,2)}\")\n",
    "print(f\"XRP: {round(x4,2)} / {round(y4,2)}\")\n",
    "\n",
    "fig, ax = plt.subplots(2,2, figsize = (6,6))\n",
    "\n",
    "ax[0,0].hist(z1, bins=50, edgecolor='black', color = \"blue\");\n",
    "ax[0,0].set_title(\"BNB\", fontweight = \"bold\", fontsize = 10)\n",
    "\n",
    "ax[0,1].hist(z2, bins=50, edgecolor='black', color = \"green\");\n",
    "ax[0,1].set_title(\"BTC\", fontweight = \"bold\", fontsize = 10)\n",
    "\n",
    "ax[1,0].hist(z3, bins=50, edgecolor='black', color = \"red\");\n",
    "ax[1,0].set_title(\"ETH\", fontweight = \"bold\", fontsize = 10)\n",
    "\n",
    "ax[1,1].hist(z4, bins=50, edgecolor='black', color = \"pink\");\n",
    "ax[1,1].set_title(\"XRP\", fontweight = \"bold\", fontsize = 10)\n",
    "\n",
    "plt.tight_layout()\n",
    "plt.savefig(\"2_SplitData/ReferenceReturns.png\", dpi = 250)"
   ]
  },
  {
   "cell_type": "code",
   "execution_count": 9,
   "metadata": {},
   "outputs": [
    {
     "data": {
      "image/png": "[encoded data removed]",
      "text/plain": [
       "<Figure size 400x400 with 1 Axes>"
      ]
     },
     "metadata": {},
     "output_type": "display_data"
    }
   ],
   "source": [
    "fig, ax = plt.subplots(figsize = (4,4))\n",
    "\n",
    "ax.hist(z1, bins=50, edgecolor='black', color = \"blue\");\n",
    "ax.set_ylabel(\"Frequency\", fontweight = \"bold\")\n",
    "ax.set_xlabel(\"Returns\", fontweight = \"bold\")\n",
    "plt.tight_layout()\n",
    "plt.savefig(\"2_SplitData/BNB_Reference_Return.png\", dpi = 250)"
   ]
  },
  {
   "cell_type": "code",
   "execution_count": 10,
   "metadata": {},
   "outputs": [
    {
     "data": {
      "image/png": "[encoded data removed]",
      "text/plain": [
       "<Figure size 400x400 with 1 Axes>"
      ]
     },
     "metadata": {},
     "output_type": "display_data"
    }
   ],
   "source": [
    "fig, ax = plt.subplots(figsize = (4,4))\n",
    "\n",
    "ax.hist(z2, bins=50, edgecolor='black', color = \"green\");\n",
    "ax.set_ylabel(\"Frequency\", fontweight = \"bold\")\n",
    "ax.set_xlabel(\"Returns\", fontweight = \"bold\")\n",
    "plt.tight_layout()\n",
    "plt.savefig(\"2_SplitData/BTC_Reference_Return.png\", dpi = 250)"
   ]
  },
  {
   "cell_type": "code",
   "execution_count": 11,
   "metadata": {},
   "outputs": [
    {
     "data": {
      "image/png": "[encoded data removed]",
      "text/plain": [
       "<Figure size 400x400 with 1 Axes>"
      ]
     },
     "metadata": {},
     "output_type": "display_data"
    }
   ],
   "source": [
    "fig, ax = plt.subplots(figsize = (4,4))\n",
    "\n",
    "ax.hist(z3, bins=50, edgecolor='black', color = \"red\");\n",
    "ax.set_ylabel(\"Frequency\", fontweight = \"bold\")\n",
    "ax.set_xlabel(\"Returns\", fontweight = \"bold\")\n",
    "plt.tight_layout()\n",
    "plt.savefig(\"2_SplitData/ETH_Reference_Return.png\", dpi = 250)"
   ]
  },
  {
   "cell_type": "code",
   "execution_count": 12,
   "metadata": {},
   "outputs": [
    {
     "data": {
      "image/png": "[encoded data removed]",
      "text/plain": [
       "<Figure size 400x400 with 1 Axes>"
      ]
     },
     "metadata": {},
     "output_type": "display_data"
    }
   ],
   "source": [
    "fig, ax = plt.subplots(figsize = (4,4))\n",
    "\n",
    "ax.hist(z4, bins=50, edgecolor='black', color = \"pink\");\n",
    "ax.set_ylabel(\"Frequency\", fontweight = \"bold\")\n",
    "ax.set_xlabel(\"Returns\", fontweight = \"bold\")\n",
    "plt.tight_layout()\n",
    "plt.savefig(\"2_SplitData/XRP_Reference_Return.png\", dpi = 250)"
   ]
  },
  {
   "cell_type": "code",
   "execution_count": 13,
   "metadata": {},
   "outputs": [
    {
     "name": "stdout",
     "output_type": "stream",
     "text": [
      "2410\n"
     ]
    },
    {
     "data": {
      "text/html": [
       "<div>\n",
       "<style scoped>\n",
       "    .dataframe tbody tr th:only-of-type {\n",
       "        vertical-align: middle;\n",
       "    }\n",
       "\n",
       "    .dataframe tbody tr th {\n",
       "        vertical-align: top;\n",
       "    }\n",
       "\n",
       "    .dataframe thead th {\n",
       "        text-align: right;\n",
       "    }\n",
       "</style>\n",
       "<table border=\"1\" class=\"dataframe\">\n",
       "  <thead>\n",
       "    <tr style=\"text-align: right;\">\n",
       "      <th></th>\n",
       "      <th>Close</th>\n",
       "      <th>label</th>\n",
       "      <th>range</th>\n",
       "      <th>id</th>\n",
       "      <th>labelId</th>\n",
       "    </tr>\n",
       "    <tr>\n",
       "      <th>Date</th>\n",
       "      <th></th>\n",
       "      <th></th>\n",
       "      <th></th>\n",
       "      <th></th>\n",
       "      <th></th>\n",
       "    </tr>\n",
       "  </thead>\n",
       "  <tbody>\n",
       "    <tr>\n",
       "      <th>2018-01-03</th>\n",
       "      <td>9.535880</td>\n",
       "      <td>NaN</td>\n",
       "      <td>NaN</td>\n",
       "      <td>NaN</td>\n",
       "      <td>NaN</td>\n",
       "    </tr>\n",
       "    <tr>\n",
       "      <th>2018-01-04</th>\n",
       "      <td>9.213990</td>\n",
       "      <td>NaN</td>\n",
       "      <td>NaN</td>\n",
       "      <td>NaN</td>\n",
       "      <td>NaN</td>\n",
       "    </tr>\n",
       "    <tr>\n",
       "      <th>2018-01-05</th>\n",
       "      <td>14.917200</td>\n",
       "      <td>buy</td>\n",
       "      <td>0:30</td>\n",
       "      <td>30</td>\n",
       "      <td>0</td>\n",
       "    </tr>\n",
       "    <tr>\n",
       "      <th>2018-01-06</th>\n",
       "      <td>22.759800</td>\n",
       "      <td>buy</td>\n",
       "      <td>1:31</td>\n",
       "      <td>31</td>\n",
       "      <td>1</td>\n",
       "    </tr>\n",
       "    <tr>\n",
       "      <th>2018-01-07</th>\n",
       "      <td>18.656799</td>\n",
       "      <td>sell</td>\n",
       "      <td>2:32</td>\n",
       "      <td>32</td>\n",
       "      <td>2</td>\n",
       "    </tr>\n",
       "    <tr>\n",
       "      <th>2018-01-08</th>\n",
       "      <td>18.260900</td>\n",
       "      <td>sell</td>\n",
       "      <td>3:33</td>\n",
       "      <td>33</td>\n",
       "      <td>3</td>\n",
       "    </tr>\n",
       "    <tr>\n",
       "      <th>2018-01-09</th>\n",
       "      <td>17.411800</td>\n",
       "      <td>sell</td>\n",
       "      <td>4:34</td>\n",
       "      <td>34</td>\n",
       "      <td>4</td>\n",
       "    </tr>\n",
       "  </tbody>\n",
       "</table>\n",
       "</div>"
      ],
      "text/plain": [
       "                Close label range   id labelId\n",
       "Date                                          \n",
       "2018-01-03   9.535880   NaN   NaN  NaN     NaN\n",
       "2018-01-04   9.213990   NaN   NaN  NaN     NaN\n",
       "2018-01-05  14.917200   buy  0:30   30       0\n",
       "2018-01-06  22.759800   buy  1:31   31       1\n",
       "2018-01-07  18.656799  sell  2:32   32       2\n",
       "2018-01-08  18.260900  sell  3:33   33       3\n",
       "2018-01-09  17.411800  sell  4:34   34       4"
      ]
     },
     "execution_count": 13,
     "metadata": {},
     "output_type": "execute_result"
    }
   ],
   "source": [
    "def generateLabels(ClosePrice, WindowSize = 30, CurrentSlopeDay = 1):\n",
    "\n",
    "    df = pd.DataFrame(columns=[\"Close\", \"label\", \"range\", \"id\", \"labelId\"])\n",
    "    df[\"Close\"] = ClosePrice\n",
    "\n",
    "    slope_2n_5, slope_3n_5, _= calculate_reference_slopes(ClosePrice)\n",
    "    id = WindowSize\n",
    "    labelId = 0\n",
    "\n",
    "    for i in range(len(ClosePrice)-WindowSize-CurrentSlopeDay):\n",
    "\n",
    "        data = ClosePrice[i + WindowSize-1: i + WindowSize + CurrentSlopeDay]\n",
    "        currentslope = calculate_average_percentage_change(data)\n",
    "\n",
    "        label = None\n",
    "\n",
    "        if currentslope >= slope_3n_5:\n",
    "            label = \"buy\"\n",
    "        elif slope_2n_5 < currentslope < slope_3n_5:\n",
    "            label = \"hold\"\n",
    "        elif currentslope <= slope_2n_5:\n",
    "            label = \"sell\"\n",
    "\n",
    "        df.loc[i+WindowSize, \"label\"] = label\n",
    "        df.loc[i+WindowSize, \"range\"] = f\"{i}:{i+WindowSize}\"\n",
    "        df.loc[i+WindowSize, \"id\"] = id\n",
    "        df.loc[i+WindowSize, \"labelId\"] = labelId\n",
    "        labelId+=1\n",
    "        id+=1\n",
    "\n",
    "    print(i)\n",
    "    df.index = ClosePrices.index\n",
    "    df.to_excel(f\"{Coin}_Labels.xlsx\")\n",
    "\n",
    "    return df\n",
    "\n",
    "LabelDf = generateLabels(ClosePrices.Close.values)\n",
    "LabelDf.iloc[28:35, :]\n"
   ]
  },
  {
   "cell_type": "code",
   "execution_count": 14,
   "metadata": {},
   "outputs": [
    {
     "data": {
      "text/html": [
       "<div>\n",
       "<style scoped>\n",
       "    .dataframe tbody tr th:only-of-type {\n",
       "        vertical-align: middle;\n",
       "    }\n",
       "\n",
       "    .dataframe tbody tr th {\n",
       "        vertical-align: top;\n",
       "    }\n",
       "\n",
       "    .dataframe thead th {\n",
       "        text-align: right;\n",
       "    }\n",
       "</style>\n",
       "<table border=\"1\" class=\"dataframe\">\n",
       "  <thead>\n",
       "    <tr style=\"text-align: right;\">\n",
       "      <th></th>\n",
       "      <th>Close</th>\n",
       "      <th>label</th>\n",
       "      <th>range</th>\n",
       "      <th>id</th>\n",
       "      <th>labelId</th>\n",
       "    </tr>\n",
       "    <tr>\n",
       "      <th>Date</th>\n",
       "      <th></th>\n",
       "      <th></th>\n",
       "      <th></th>\n",
       "      <th></th>\n",
       "      <th></th>\n",
       "    </tr>\n",
       "  </thead>\n",
       "  <tbody>\n",
       "    <tr>\n",
       "      <th>2024-08-08</th>\n",
       "      <td>517.337524</td>\n",
       "      <td>buy</td>\n",
       "      <td>2407:2437</td>\n",
       "      <td>2437</td>\n",
       "      <td>2407</td>\n",
       "    </tr>\n",
       "    <tr>\n",
       "      <th>2024-08-09</th>\n",
       "      <td>509.182709</td>\n",
       "      <td>sell</td>\n",
       "      <td>2408:2438</td>\n",
       "      <td>2438</td>\n",
       "      <td>2408</td>\n",
       "    </tr>\n",
       "    <tr>\n",
       "      <th>2024-08-10</th>\n",
       "      <td>523.317627</td>\n",
       "      <td>buy</td>\n",
       "      <td>2409:2439</td>\n",
       "      <td>2439</td>\n",
       "      <td>2409</td>\n",
       "    </tr>\n",
       "    <tr>\n",
       "      <th>2024-08-11</th>\n",
       "      <td>503.804535</td>\n",
       "      <td>sell</td>\n",
       "      <td>2410:2440</td>\n",
       "      <td>2440</td>\n",
       "      <td>2410</td>\n",
       "    </tr>\n",
       "    <tr>\n",
       "      <th>2024-08-12</th>\n",
       "      <td>518.536133</td>\n",
       "      <td>NaN</td>\n",
       "      <td>NaN</td>\n",
       "      <td>NaN</td>\n",
       "      <td>NaN</td>\n",
       "    </tr>\n",
       "  </tbody>\n",
       "</table>\n",
       "</div>"
      ],
      "text/plain": [
       "                 Close label      range    id labelId\n",
       "Date                                                 \n",
       "2024-08-08  517.337524   buy  2407:2437  2437    2407\n",
       "2024-08-09  509.182709  sell  2408:2438  2438    2408\n",
       "2024-08-10  523.317627   buy  2409:2439  2439    2409\n",
       "2024-08-11  503.804535  sell  2410:2440  2440    2410\n",
       "2024-08-12  518.536133   NaN        NaN   NaN     NaN"
      ]
     },
     "execution_count": 14,
     "metadata": {},
     "output_type": "execute_result"
    }
   ],
   "source": [
    "LabelDf.tail()"
   ]
  },
  {
   "cell_type": "code",
   "execution_count": 15,
   "metadata": {},
   "outputs": [
    {
     "data": {
      "text/plain": [
       "sell    1075\n",
       "buy     1041\n",
       "hold     295\n",
       "Name: label, dtype: int64"
      ]
     },
     "execution_count": 15,
     "metadata": {},
     "output_type": "execute_result"
    }
   ],
   "source": [
    "LabelDf[\"label\"].value_counts()"
   ]
  },
  {
   "cell_type": "code",
   "execution_count": 16,
   "metadata": {},
   "outputs": [
    {
     "data": {
      "text/plain": [
       "sell    0.445873\n",
       "buy     0.431771\n",
       "hold    0.122356\n",
       "Name: label, dtype: float64"
      ]
     },
     "execution_count": 16,
     "metadata": {},
     "output_type": "execute_result"
    }
   ],
   "source": [
    "LabelDf[\"label\"].value_counts(\"d\")"
   ]
  },
  {
   "cell_type": "code",
   "execution_count": 17,
   "metadata": {},
   "outputs": [
    {
     "data": {
      "text/plain": [
       "2411"
      ]
     },
     "execution_count": 17,
     "metadata": {},
     "output_type": "execute_result"
    }
   ],
   "source": [
    "LabelDf[\"label\"].value_counts().sum()"
   ]
  },
  {
   "cell_type": "code",
   "execution_count": 18,
   "metadata": {},
   "outputs": [
    {
     "name": "stdout",
     "output_type": "stream",
     "text": [
      "python 4_SplitImages/SplitDataClasses.py --folder 3_GenerateLabel/BNB/Bar --dest 4_SplitImages/Train/BNB_B_Train\n",
      "python 4_SplitImages/SplitDataClasses.py --folder 3_GenerateLabel/BNB/Candle --dest 4_SplitImages/Train/BNB_C_Train\n",
      "python 4_SplitImages/SplitDataClasses.py --folder 3_GenerateLabel/BNB/GAF --dest 4_SplitImages/Train/BNB_G_Train\n",
      "python 4_SplitImages/SplitDataClasses.py --folder 3_GenerateLabel/BNB/Heatmap --dest 4_SplitImages/Train/BNB_H_Train\n",
      "python 4_SplitImages/SplitDataClasses.py --folder 3_GenerateLabel/BNB/Multi --dest 4_SplitImages/Train/BNB_M_Train\n",
      "python 4_SplitImages/SplitDataClasses.py --folder 3_GenerateLabel/BTC/Bar --dest 4_SplitImages/Train/BTC_B_Train\n",
      "python 4_SplitImages/SplitDataClasses.py --folder 3_GenerateLabel/BTC/Candle --dest 4_SplitImages/Train/BTC_C_Train\n",
      "python 4_SplitImages/SplitDataClasses.py --folder 3_GenerateLabel/BTC/GAF --dest 4_SplitImages/Train/BTC_G_Train\n",
      "python 4_SplitImages/SplitDataClasses.py --folder 3_GenerateLabel/BTC/Heatmap --dest 4_SplitImages/Train/BTC_H_Train\n",
      "python 4_SplitImages/SplitDataClasses.py --folder 3_GenerateLabel/BTC/Multi --dest 4_SplitImages/Train/BTC_M_Train\n",
      "python 4_SplitImages/SplitDataClasses.py --folder 3_GenerateLabel/ETH/Bar --dest 4_SplitImages/Train/ETH_B_Train\n",
      "python 4_SplitImages/SplitDataClasses.py --folder 3_GenerateLabel/ETH/Candle --dest 4_SplitImages/Train/ETH_C_Train\n",
      "python 4_SplitImages/SplitDataClasses.py --folder 3_GenerateLabel/ETH/GAF --dest 4_SplitImages/Train/ETH_G_Train\n",
      "python 4_SplitImages/SplitDataClasses.py --folder 3_GenerateLabel/ETH/Heatmap --dest 4_SplitImages/Train/ETH_H_Train\n",
      "python 4_SplitImages/SplitDataClasses.py --folder 3_GenerateLabel/ETH/Multi --dest 4_SplitImages/Train/ETH_M_Train\n",
      "python 4_SplitImages/SplitDataClasses.py --folder 3_GenerateLabel/XRP/Bar --dest 4_SplitImages/Train/XRP_B_Train\n",
      "python 4_SplitImages/SplitDataClasses.py --folder 3_GenerateLabel/XRP/Candle --dest 4_SplitImages/Train/XRP_C_Train\n",
      "python 4_SplitImages/SplitDataClasses.py --folder 3_GenerateLabel/XRP/GAF --dest 4_SplitImages/Train/XRP_G_Train\n",
      "python 4_SplitImages/SplitDataClasses.py --folder 3_GenerateLabel/XRP/Heatmap --dest 4_SplitImages/Train/XRP_H_Train\n",
      "python 4_SplitImages/SplitDataClasses.py --folder 3_GenerateLabel/XRP/Multi --dest 4_SplitImages/Train/XRP_M_Train\n"
     ]
    }
   ],
   "source": [
    "coins = [\"BNB\", \"BTC\", \"ETH\", \"XRP\"]\n",
    "images = [\"Bar\",\"Candle\", \"GAF\", \"Heatmap\", \"Multi\"]\n",
    "\n",
    "\n",
    "\n",
    "\n",
    "\n",
    "r = \"python 4_SplitImages/SplitDataClasses.py --folder 3_GenerateLabel/BNB/Bar --dest 4_SplitImages/Train/BNB_B_Train\" \n",
    "\n",
    "\n",
    "\n",
    "for c in coins:\n",
    "    for i in images:\n",
    "\n",
    "        exp = f\"python 4_SplitImages/SplitDataClasses.py --folder 3_GenerateLabel/{c}/{i} --dest 4_SplitImages/Train/{c}_{i[0]}_Train\" \n",
    "        print(exp)\n"
   ]
  }
 ],
 "metadata": {
  "kernelspec": {
   "display_name": "Python 3",
   "language": "python",
   "name": "python3"
  },
  "language_info": {
   "codemirror_mode": {
    "name": "ipython",
    "version": 3
   },
   "file_extension": ".py",
   "mimetype": "text/x-python",
   "name": "python",
   "nbconvert_exporter": "python",
   "pygments_lexer": "ipython3",
   "version": "3.11.1"
  }
 },
 "nbformat": 4,
 "nbformat_minor": 2
}
