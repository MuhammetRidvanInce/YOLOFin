{
 "cells": [
  {
   "cell_type": "code",
   "execution_count": 13,
   "metadata": {},
   "outputs": [],
   "source": [
    "import pandas as pd\n",
    "import numpy as np"
   ]
  },
  {
   "cell_type": "markdown",
   "metadata": {},
   "source": [
    "### LOAD DATASET"
   ]
  },
  {
   "cell_type": "code",
   "execution_count": 14,
   "metadata": {},
   "outputs": [],
   "source": [
    "# Load the data\n",
    "file = \"XRPDaily\"\n",
    "file_path = file + '.xlsx'  \n",
    "data = pd.read_excel(file_path)\n",
    "\n",
    "# Convert date to datetime format\n",
    "data['Date'] = pd.to_datetime(data['Date'])\n",
    "\n",
    "# Sort the data by date\n",
    "data = data.sort_values('Date')"
   ]
  },
  {
   "cell_type": "code",
   "execution_count": 15,
   "metadata": {},
   "outputs": [
    {
     "name": "stdout",
     "output_type": "stream",
     "text": [
      "        Date      Open      High       Low     Close     Volume\n",
      "0 2017-11-09  0.217911  0.221791  0.214866  0.217488  147916992\n",
      "1 2017-11-10  0.218256  0.219068  0.205260  0.206483  141032992\n",
      "           Date      Open      High       Low     Close      Volume\n",
      "2467 2024-08-11  0.585586  0.593077  0.547541  0.552932  1202704291\n",
      "2468 2024-08-12  0.552931  0.579069  0.552163  0.568768  1479740403\n"
     ]
    }
   ],
   "source": [
    "print(data.head(2))\n",
    "print(data.tail(2))"
   ]
  },
  {
   "cell_type": "markdown",
   "metadata": {},
   "source": [
    "### CALCULATE TECHNICAL INDICATORS\n"
   ]
  },
  {
   "cell_type": "code",
   "execution_count": 16,
   "metadata": {},
   "outputs": [
    {
     "name": "stdout",
     "output_type": "stream",
     "text": [
      "File saved as XRPDailyWithTech.xlsx\n"
     ]
    }
   ],
   "source": [
    "# Calculate RSI\n",
    "def calculate_rsi(data, window):\n",
    "    delta = data['Close'].diff(1)\n",
    "    gain = (delta.where(delta > 0, 0)).rolling(window=window).mean()\n",
    "    loss = (-delta.where(delta < 0, 0)).rolling(window=window).mean()\n",
    "    rs = gain / loss\n",
    "    rsi = 100 - (100 / (1 + rs))\n",
    "    return rsi\n",
    "\n",
    "data['RSI_14'] = calculate_rsi(data, 14)\n",
    "\n",
    "# Calculate Williams %R\n",
    "def calculate_wr(data, period):\n",
    "    highest_high = data['High'].rolling(window=period).max()\n",
    "    lowest_low = data['Low'].rolling(window=period).min()\n",
    "    wr = -100 * (highest_high - data['Close']) / (highest_high - lowest_low)\n",
    "    return wr\n",
    "\n",
    "data['Williams_%R_14'] = calculate_wr(data, 14)\n",
    "\n",
    "# Calculate WMA\n",
    "def calculate_wma(data, window):\n",
    "    weights = np.arange(1, window + 1)\n",
    "    wma = data['Close'].rolling(window).apply(lambda prices: np.dot(prices, weights) / weights.sum(), raw=True)\n",
    "    return wma\n",
    "\n",
    "data['WMA_10'] = calculate_wma(data, 10)\n",
    "\n",
    "# Calculate EMA\n",
    "data['EMA_10'] = data['Close'].ewm(span=10, adjust=False).mean()\n",
    "\n",
    "# Calculate SMA\n",
    "data['SMA_10'] = data['Close'].rolling(window=10).mean()\n",
    "\n",
    "# Calculate HMA\n",
    "def calculate_hma(data, window):\n",
    "    half_length = int(window / 2)\n",
    "    sqrt_length = int(np.sqrt(window))\n",
    "    wmaf = calculate_wma(data, half_length)\n",
    "    wmas = calculate_wma(data, window)\n",
    "    raw_hma = 2 * wmaf - wmas\n",
    "    hma = calculate_wma(pd.DataFrame(raw_hma), sqrt_length)\n",
    "    return hma\n",
    "\n",
    "data['HMA_10'] = calculate_hma(data, 10)\n",
    "\n",
    "# Calculate Triple EMA\n",
    "data['Triple_EMA_10'] = 3 * data['EMA_10'] - 3 * data['EMA_10'].ewm(span=10, adjust=False).mean() + data['EMA_10'].ewm(span=10, adjust=False).mean().ewm(span=10, adjust=False).mean()\n",
    "\n",
    "# Calculate CCI\n",
    "def calculate_cci(data, ndays): \n",
    "    TP = (data['High'] + data['Low'] + data['Close']) / 3 \n",
    "    CCI = pd.Series((TP - TP.rolling(ndays).mean()) / (0.015 * TP.rolling(ndays).std()), name = 'CCI') \n",
    "    return CCI\n",
    "\n",
    "data['CCI_14'] = calculate_cci(data, 14)\n",
    "\n",
    "# Calculate CMO\n",
    "def calculate_cmo(data, period):\n",
    "    delta = data['Close'].diff(1)\n",
    "    gain = (delta.where(delta > 0, 0)).rolling(window=period).sum()\n",
    "    loss = (-delta.where(delta < 0, 0)).rolling(window=period).sum()\n",
    "    cmo = 100 * (gain - loss) / (gain + loss)\n",
    "    return cmo\n",
    "\n",
    "data['CMO_14'] = calculate_cmo(data, 14)\n",
    "\n",
    "# Calculate MACD\n",
    "# btc_data['MACD'], btc_data['MACD_signal'] = btc_data['Close'].ewm(span=12, adjust=False).mean() - btc_data['Close'].ewm(span=26, adjust=False).mean(), btc_data['Close'].ewm(span=9, adjust=False).mean()\n",
    "data['MACD'] = data['Close'].ewm(span=12, adjust=False).mean() - data['Close'].ewm(span=26, adjust=False).mean()\n",
    "\n",
    "\n",
    "\n",
    "# Calculate PPO\n",
    "def calculate_ppo(data, fast_period=12, slow_period=26):\n",
    "    fast_ema = data['Close'].ewm(span=fast_period, adjust=False).mean()\n",
    "    slow_ema = data['Close'].ewm(span=slow_period, adjust=False).mean()\n",
    "    ppo = (fast_ema - slow_ema) / slow_ema * 100\n",
    "    return ppo\n",
    "\n",
    "data['PPO_12_26'] = calculate_ppo(data)\n",
    "\n",
    "# Calculate ROC\n",
    "def calculate_roc(data, period):\n",
    "    n_days_ago = data['Close'].shift(period)\n",
    "    roc = ((data['Close'] - n_days_ago) / n_days_ago) * 100\n",
    "    return roc\n",
    "\n",
    "data['ROC_14'] = calculate_roc(data, 14)\n",
    "\n",
    "# Calculate CMFI\n",
    "def calculate_cmfi(data, period):\n",
    "    mfv = ((data['Close'] - data['Low']) - (data['High'] - data['Close'])) / (data['High'] - data['Low']) * data['Volume']\n",
    "    cmf = mfv.rolling(window=period).sum() / data['Volume'].rolling(window=period).sum()\n",
    "    return cmf\n",
    "\n",
    "data['CMFI_20'] = calculate_cmfi(data, 20)\n",
    "\n",
    "# Calculate DMI\n",
    "def calculate_dmi(data, period):\n",
    "    plus_dm = data['High'].diff()\n",
    "    minus_dm = data['Low'].diff().abs()\n",
    "    tr = data[['High', 'Low', 'Close']].max(axis=1) - data[['High', 'Low', 'Close']].min(axis=1)\n",
    "    plus_dm[plus_dm < 0] = 0\n",
    "    minus_dm[minus_dm < 0] = 0\n",
    "    plus_di = 100 * (plus_dm.rolling(window=period).sum() / tr.rolling(window=period).sum())\n",
    "    minus_di = 100 * (minus_dm.rolling(window=period).sum() / tr.rolling(window=period).sum())\n",
    "    dx = 100 * (abs(plus_di - minus_di) / (plus_di + minus_di))\n",
    "    adx = dx.rolling(window=period).mean()\n",
    "    return adx\n",
    "\n",
    "data['DMI_14'] = calculate_dmi(data, 14)\n",
    "\n",
    "# Calculate PSI\n",
    "def calculate_psi(data, period):\n",
    "    psi = 100 * ((data['Close'] - data['Close'].shift(period)) / data['Close'].shift(period))\n",
    "    return psi\n",
    "\n",
    "data['PSI_14'] = calculate_psi(data, 14)\n",
    "\n",
    "data = data.dropna()\n",
    "\n",
    "# Save the updated dataframe to a new Excel file\n",
    "output_file_path = file + 'WithTech.xlsx'\n",
    "data.to_excel(output_file_path, index=False)\n",
    "\n",
    "print(f\"File saved as {output_file_path}\")"
   ]
  },
  {
   "cell_type": "code",
   "execution_count": null,
   "metadata": {},
   "outputs": [],
   "source": []
  },
  {
   "cell_type": "code",
   "execution_count": null,
   "metadata": {},
   "outputs": [],
   "source": []
  },
  {
   "cell_type": "code",
   "execution_count": null,
   "metadata": {},
   "outputs": [],
   "source": []
  }
 ],
 "metadata": {
  "kernelspec": {
   "display_name": "Python 3",
   "language": "python",
   "name": "python3"
  },
  "language_info": {
   "codemirror_mode": {
    "name": "ipython",
    "version": 3
   },
   "file_extension": ".py",
   "mimetype": "text/x-python",
   "name": "python",
   "nbconvert_exporter": "python",
   "pygments_lexer": "ipython3",
   "version": "3.11.1"
  }
 },
 "nbformat": 4,
 "nbformat_minor": 2
}
