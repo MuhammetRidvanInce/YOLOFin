{
 "cells": [
  {
   "cell_type": "code",
   "execution_count": 1,
   "metadata": {},
   "outputs": [
    {
     "data": {
      "text/plain": [
       "729"
      ]
     },
     "execution_count": 1,
     "metadata": {},
     "output_type": "execute_result"
    }
   ],
   "source": [
    "from datetime import datetime\n",
    "\n",
    "start_date = datetime.strptime('2022-07-16', '%Y-%m-%d')\n",
    "end_date = datetime.strptime('2024-07-14', '%Y-%m-%d')\n",
    "\n",
    "date_difference = end_date - start_date\n",
    "date_difference.days"
   ]
  },
  {
   "cell_type": "code",
   "execution_count": 2,
   "metadata": {},
   "outputs": [],
   "source": [
    "import pandas as pd\n",
    "import yfinance as yf\n",
    "\n",
    "def get_data(symbol, start, end):\n",
    "\n",
    "    data = yf.download(symbol, start=start, end=end, interval='1d')\n",
    "    \n",
    "    df = data[['Open', 'High', 'Low', 'Close', 'Volume']]\n",
    "    \n",
    "   \n",
    "    return df\n",
    "\n"
   ]
  },
  {
   "cell_type": "code",
   "execution_count": 5,
   "metadata": {},
   "outputs": [
    {
     "name": "stderr",
     "output_type": "stream",
     "text": [
      "[*********************100%%**********************]  1 of 1 completed\n",
      "[*********************100%%**********************]  1 of 1 completed\n",
      "[*********************100%%**********************]  1 of 1 completed\n",
      "[*********************100%%**********************]  1 of 1 completed\n"
     ]
    }
   ],
   "source": [
    "\n",
    "start_date = '2010-07-16'\n",
    "end_date = '2024-08-13'\n",
    "symbol = 'BTC-USD'\n",
    "\n",
    "BTCData = get_data('BTC-USD', start_date, end_date)\n",
    "ETHData = get_data('ETH-USD', start_date, end_date)\n",
    "BNBData = get_data('BNB-USD', start_date, end_date)\n",
    "XRPData = get_data('XRP-USD', start_date, end_date)\n"
   ]
  },
  {
   "cell_type": "code",
   "execution_count": 6,
   "metadata": {},
   "outputs": [
    {
     "name": "stdout",
     "output_type": "stream",
     "text": [
      "               Open     High      Low    Close    Volume\n",
      "Date                                                    \n",
      "2017-11-09  2.05314  2.17423  1.89394  1.99077  19192200\n",
      "2017-11-10  2.00773  2.06947  1.64478  1.79684  11155000\n",
      "                  Open        High         Low       Close      Volume\n",
      "Date                                                                  \n",
      "2024-08-11  523.317810  535.540039  503.233856  503.804535  1563057068\n",
      "2024-08-12  503.804169  523.544617  500.233704  518.536133  1786263873\n"
     ]
    }
   ],
   "source": [
    "# print(BTCData.head(2))\n",
    "# print(BTCData.tail(2))\n",
    "\n",
    "# print(ETHData.head(2))\n",
    "# print(ETHData.tail(2))\n",
    "\n",
    "print(BNBData.head(2))\n",
    "print(BNBData.tail(2))\n",
    "\n",
    "# print(XRPData.head(2))\n",
    "# print(XRPData.tail(2))\n"
   ]
  },
  {
   "cell_type": "code",
   "execution_count": 5,
   "metadata": {},
   "outputs": [
    {
     "name": "stdout",
     "output_type": "stream",
     "text": [
      "1565\n"
     ]
    }
   ],
   "source": [
    "# print(len(BTCData)), print(len(ETHData)), print(len(BNBData)), print(len(XRPData))\n",
    "# print(len(SOLData))"
   ]
  },
  {
   "cell_type": "code",
   "execution_count": 7,
   "metadata": {},
   "outputs": [],
   "source": [
    "BTCData.to_excel(\"BTCDaily.xlsx\")\n",
    "ETHData.to_excel(\"ETHDaily.xlsx\")\n",
    "BNBData.to_excel(\"BNBDaily.xlsx\")\n",
    "XRPData.to_excel(\"XRPDaily.xlsx\")"
   ]
  },
  {
   "cell_type": "code",
   "execution_count": null,
   "metadata": {},
   "outputs": [],
   "source": []
  },
  {
   "cell_type": "code",
   "execution_count": null,
   "metadata": {},
   "outputs": [],
   "source": []
  }
 ],
 "metadata": {
  "kernelspec": {
   "display_name": "Python 3",
   "language": "python",
   "name": "python3"
  },
  "language_info": {
   "codemirror_mode": {
    "name": "ipython",
    "version": 3
   },
   "file_extension": ".py",
   "mimetype": "text/x-python",
   "name": "python",
   "nbconvert_exporter": "python",
   "pygments_lexer": "ipython3",
   "version": "3.11.1"
  }
 },
 "nbformat": 4,
 "nbformat_minor": 2
}
